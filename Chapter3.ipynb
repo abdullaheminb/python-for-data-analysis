{
 "cells": [
  {
   "cell_type": "markdown",
   "id": "c7ded892-dcce-4eb8-bd44-1b06875a4eac",
   "metadata": {},
   "source": [
    "**TUPLES**"
   ]
  },
  {
   "cell_type": "markdown",
   "id": "9244e377-5bb0-4e21-8861-02ddd0673a28",
   "metadata": {},
   "source": [
    "Tuples are immutable. Doesnt matter if you turn a mutable object into tuple. Its still immutable\n",
    "\n",
    "You can create tuples like listing"
   ]
  },
  {
   "cell_type": "code",
   "execution_count": 1,
   "id": "2f4161f4-a2ef-4703-be47-874e433158a4",
   "metadata": {},
   "outputs": [],
   "source": [
    "tup = (5,6,7,(8,9,10),'string')"
   ]
  },
  {
   "cell_type": "markdown",
   "id": "93874e6f-c93e-4371-bca4-784c8e09c61b",
   "metadata": {},
   "source": [
    "And you can call any item from tuple with a bracket and number"
   ]
  },
  {
   "cell_type": "code",
   "execution_count": 2,
   "id": "95739519-b7cb-4792-9a74-f8dd24fb86cb",
   "metadata": {},
   "outputs": [
    {
     "data": {
      "text/plain": [
       "(8, 9, 10)"
      ]
     },
     "execution_count": 2,
     "metadata": {},
     "output_type": "execute_result"
    }
   ],
   "source": [
    "tup[3]"
   ]
  },
  {
   "cell_type": "markdown",
   "id": "ec8f7321-a33f-448b-aff2-d8d7de528fcb",
   "metadata": {},
   "source": [
    "You can turn anyting into tuple. with a simple tuple function"
   ]
  },
  {
   "cell_type": "code",
   "execution_count": 3,
   "id": "69291527-552a-43ff-bdf3-8da8d5473aaa",
   "metadata": {},
   "outputs": [],
   "source": [
    "tup = tuple('string')"
   ]
  },
  {
   "cell_type": "code",
   "execution_count": 4,
   "id": "93e41ed4-4f3e-4b89-8b8e-ca529135df77",
   "metadata": {},
   "outputs": [
    {
     "data": {
      "text/plain": [
       "('s', 't', 'r', 'i', 'n', 'g')"
      ]
     },
     "execution_count": 4,
     "metadata": {},
     "output_type": "execute_result"
    }
   ],
   "source": [
    "tup"
   ]
  },
  {
   "cell_type": "code",
   "execution_count": null,
   "id": "1a1ca439-e82b-4576-9019-e1b1d4d3b2af",
   "metadata": {},
   "outputs": [],
   "source": []
  }
 ],
 "metadata": {
  "kernelspec": {
   "display_name": "Python 3 (ipykernel)",
   "language": "python",
   "name": "python3"
  },
  "language_info": {
   "codemirror_mode": {
    "name": "ipython",
    "version": 3
   },
   "file_extension": ".py",
   "mimetype": "text/x-python",
   "name": "python",
   "nbconvert_exporter": "python",
   "pygments_lexer": "ipython3",
   "version": "3.10.13"
  }
 },
 "nbformat": 4,
 "nbformat_minor": 5
}
